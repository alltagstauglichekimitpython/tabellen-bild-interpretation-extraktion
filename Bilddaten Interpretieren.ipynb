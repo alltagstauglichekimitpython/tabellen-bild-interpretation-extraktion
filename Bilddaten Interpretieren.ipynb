{
 "cells": [
  {
   "cell_type": "code",
   "execution_count": null,
   "id": "e5dc0fa7-d14a-4e88-92a2-e6fd7781c238",
   "metadata": {},
   "outputs": [],
   "source": [
    "import logging\n",
    "logging.basicConfig(level=logging.INFO)\n",
    "logger = logging.getLogger(__name__)\n",
    "\n",
    "from dotenv import load_dotenv\n",
    "# lädt die (versteckte) Datei die im selben Ordner liegt wie dieses notebook file\n",
    "# die Datei muss .env benannt sein, diese Dateien sind in der Regel ausgeblendet, \n",
    "# weil Dateien mit . andeuten, dass diese im Explorer ausgeblendet werden.\n",
    "# In der Datei\n",
    "load_dotenv()"
   ]
  },
  {
   "cell_type": "markdown",
   "id": "962b802a-59cd-47df-a412-6ee0b14e0f99",
   "metadata": {},
   "source": [
    "## Header\n",
    "Wo wir unseren geheimen Schlüssel für ChatGPT mitschicken mit dem wir uns automatisch einloggen und authentifizieren (und auch unser Budget ansprechen)"
   ]
  },
  {
   "cell_type": "code",
   "execution_count": null,
   "id": "876fd926-47fd-4d2c-a8cf-3b45a5f0f9e2",
   "metadata": {},
   "outputs": [],
   "source": [
    "import os\n",
    "headers = {\n",
    "    \"Content-Type\": \"application/json\",\n",
    "    \"Authorization\": f\"Bearer {os.environ[\"API_KEY\"]}\",\n",
    "}"
   ]
  },
  {
   "cell_type": "markdown",
   "id": "ba557507-0139-401f-a626-46e0aacdc137",
   "metadata": {},
   "source": [
    "Die Daten die wir mit unsere Anfrage schicken - dies entspricht der GESAMTEN Unterhaltung!"
   ]
  },
  {
   "cell_type": "markdown",
   "id": "4957f094-9ce7-48cc-95c1-119d55461429",
   "metadata": {},
   "source": [
    "# Tabellen interpretieren"
   ]
  },
  {
   "cell_type": "code",
   "execution_count": null,
   "id": "fdb9319f-9bae-4661-8d6a-da26fd53e349",
   "metadata": {},
   "outputs": [],
   "source": [
    "import base64\n",
    "from IPython.display import Image, display\n",
    "\n",
    "# Tabelle aus https://www.statistischebibliothek.de/mir/servlets/MCRFileNodeServlet/DEAusgabe_derivate_00000632/Wirtschaft_und_Statistik-1980-09.pdf\n",
    "# dokument von 1980\n",
    "with open(\"tabelle.png\", mode='rb') as h:\n",
    "    image_data = h.read()\n",
    "\n",
    "display(Image(data=image_data))"
   ]
  },
  {
   "cell_type": "code",
   "execution_count": null,
   "id": "d9454754-5bb9-4c14-97ad-17c6674308c2",
   "metadata": {},
   "outputs": [],
   "source": [
    "base64_encoded = base64.b64encode(image_data).decode('utf-8')\n",
    "\n",
    "image_payload = {\n",
    "  # Das 4o klappt in der Regel besser für Bildanalysen\n",
    "  \"model\": \"gpt-4o\",\n",
    "  \"messages\": [\n",
    "    {\"role\": \"system\", \n",
    "     \"content\": \"Du bist ein Experte darin PDF Tabellen zu analysieren\"\n",
    "    },\n",
    "    {\n",
    "      \"role\": \"user\",\n",
    "      \"content\": [\n",
    "        {\n",
    "          \"type\": \"text\",\n",
    "          \"text\": \"\"\"Wie viele Arbeitsstunden wurden 1980 in Nordrhein-Westfalen geleistet ?\"\"\"\n",
    "        },\n",
    "        {\n",
    "          \"type\": \"image_url\",\n",
    "          \"image_url\": {\n",
    "            \"url\": f\"data:image/png;base64,{base64_encoded}\"\n",
    "          }\n",
    "        }         \n",
    "      ]\n",
    "    }\n",
    "  ],\n",
    "  \"temperature\": 0.5\n",
    "}"
   ]
  },
  {
   "cell_type": "code",
   "execution_count": null,
   "id": "5f130c8b-fc60-4ded-9c47-4889a3ff85c7",
   "metadata": {},
   "outputs": [],
   "source": [
    "import pprint\n",
    "import requests\n",
    "\n",
    "def call_openai(payload: dict) -> dict:\n",
    "    ENDPOINT = \"https://api.openai.com/v1/chat/completions\"\n",
    "        \n",
    "    response = requests.post(ENDPOINT, headers=headers, json=image_payload)\n",
    "    if response.status_code != 200:\n",
    "        logger.warning(f\"Fehlerhafte Antwort: {response.text}\")\n",
    "    endpoint_response = response.json()\n",
    "    return endpoint_response\n",
    "\n",
    "endpoint_response = call_openai(payload=image_payload)"
   ]
  },
  {
   "cell_type": "code",
   "execution_count": null,
   "id": "48b7f28e-7658-4639-bb1a-6674a46ab253",
   "metadata": {},
   "outputs": [],
   "source": [
    "chat_answer = endpoint_response.get('choices', [])[0].get('message', {}).get('content', \"FEHLER\")\n",
    "chat_answer"
   ]
  },
  {
   "cell_type": "markdown",
   "id": "c2e6ab52-1786-4961-986f-9e8a9edc312e",
   "metadata": {},
   "source": [
    "# Extraktion von Tabellen"
   ]
  },
  {
   "cell_type": "code",
   "execution_count": null,
   "id": "75294b94-f059-4895-af09-d3a4c2bf172f",
   "metadata": {},
   "outputs": [],
   "source": [
    "schema = {\n",
    "    \"type\": \"function\",\n",
    "    \"function\": {\n",
    "        \"name\": \"tabellen_extraktion\",\n",
    "        \"description\": \"Extrahiere Schlüsselinformationen aus Tabellen\",\n",
    "        \"parameters\": {\n",
    "            \"type\": \"object\",\n",
    "            \"properties\": {   \n",
    "                \"tabellen_zeile\": {\n",
    "                    \"type\": \"array\",  \n",
    "                    \"description\": \"Die Zeilen der Tabelle\",\n",
    "                    \"items\": {\n",
    "                        \"type\": \"object\",\n",
    "                        \"properties\": {\n",
    "                            \"bundesland\": {\n",
    "                                \"type\": \"string\",\n",
    "                                \"description\": \"Der Name des Bundesland\"\n",
    "                            },\n",
    "                            \"anzahl_beschaeftigte_1979\": {\n",
    "                                \"type\": \"number\",\n",
    "                                \"description\": \"Anzahl der Beschäftigten in 1979\"\n",
    "                            },\n",
    "                            \"anzahl_beschaeftigte_1980\": {\n",
    "                                \"type\": \"number\",\n",
    "                                \"description\": \"Anzahl der Beschäftigten in 1980\"\n",
    "                            }, \n",
    "                            \"veraenderung_der_anzahl_beschaeftigte\": {\n",
    "                                \"type\": \"number\",\n",
    "                                \"description\": \"Veränderung der Beschäftigten zum Vorjahres Zeitraum 1979\"\n",
    "                            },    \n",
    "                            \"arbeitsstunden_1979\": {\n",
    "                                \"type\": \"string\",\n",
    "                                \"description\": \"Anzahl der geleisteten Arbeitsstunden in 1979\"\n",
    "                            },\n",
    "                            \"arbeitsstunden_1980\": {\n",
    "                                \"type\": \"string\",\n",
    "                                \"description\": \"Anzahl der geleisteten Arbeitsstunden in 1980\"\n",
    "                            },    \n",
    "                            \"veraenderung_der_anzahl_geleisteter_arbeitsstunden\": {\n",
    "                                \"type\": \"number\",\n",
    "                                \"description\": \"Veränderung der Beschäftigten zum Vorjahres Zeitraum 1979\"\n",
    "                            },                             \n",
    "                        }\n",
    "                    }\n",
    "                }                \n",
    "            }\n",
    "        }\n",
    "    }\n",
    "}"
   ]
  },
  {
   "cell_type": "code",
   "execution_count": null,
   "id": "4a30e6d1-be80-4597-a840-38b3fafee09b",
   "metadata": {},
   "outputs": [],
   "source": [
    "image_payload = {\n",
    "  # Das 4o klappt in der Regel besser für Bildanalysen\n",
    "  \"model\": \"gpt-4o\",\n",
    "  \"messages\": [\n",
    "    {\"role\": \"system\", \n",
    "     \"content\": \"Du bist ein Experte darin PDF Tabellen zu analysieren\"\n",
    "    },\n",
    "    {\n",
    "      \"role\": \"user\",\n",
    "      \"content\": [\n",
    "        {\n",
    "          \"type\": \"text\",\n",
    "          \"text\": \"\"\"Extrahiere die Zeilen der Tabelle\"\"\"\n",
    "        },\n",
    "        {\n",
    "          \"type\": \"image_url\",\n",
    "          \"image_url\": {\n",
    "            \"url\": f\"data:image/png;base64,{base64_encoded}\"\n",
    "          }\n",
    "        }         \n",
    "      ]\n",
    "    }\n",
    "  ],\n",
    "  \"tools\": [schema],\n",
    "  \"tool_choice\": \"required\",   \n",
    "  \"temperature\": 0.5\n",
    "}"
   ]
  },
  {
   "cell_type": "code",
   "execution_count": null,
   "id": "ad601202-ee00-4ea8-a17e-7f0290275a05",
   "metadata": {},
   "outputs": [],
   "source": [
    "endpoint_response = call_openai(payload=image_payload)"
   ]
  },
  {
   "cell_type": "markdown",
   "id": "997a24a4-f99c-4e97-824a-f67da652a2fa",
   "metadata": {},
   "source": [
    "## Konvertieren des Extraktionsergebnis als Tabelle in einem Pandas Dataframe"
   ]
  },
  {
   "cell_type": "code",
   "execution_count": null,
   "id": "98e4a495-3875-4e89-9fd0-4f3bcc22687f",
   "metadata": {},
   "outputs": [],
   "source": [
    "import json\n",
    "import pandas as pd\n",
    "data_frames = []\n",
    "for tool_call_result in endpoint_response.get('choices', [])[0].get('message', {}).get('tool_calls', []):\n",
    "    data = json.loads(tool_call_result.get('function', {}).get('arguments'))\n",
    "    frame = data.get(\"tabellen_zeile\", [])\n",
    "    data_frames.append(pd.DataFrame(frame))\n",
    "\n",
    "data_frames[0]"
   ]
  },
  {
   "cell_type": "markdown",
   "id": "b110f475-7958-4fc7-b266-437af66e1850",
   "metadata": {},
   "source": [
    "# Komplexe Tabellen mit kombinierten Zellen"
   ]
  },
  {
   "cell_type": "code",
   "execution_count": null,
   "id": "caac7e2e-d125-4d01-8575-b751e201a4c7",
   "metadata": {},
   "outputs": [],
   "source": [
    "import base64\n",
    "from IPython.display import Image, display\n",
    "\n",
    "with open(\"komplexe_zellen.png\", mode='rb') as h:\n",
    "    image_data = h.read()\n",
    "\n",
    "display(Image(data=image_data))"
   ]
  },
  {
   "cell_type": "code",
   "execution_count": null,
   "id": "06b5d68b-aefd-4caa-8e9a-000fdb5a461d",
   "metadata": {},
   "outputs": [],
   "source": [
    "base64_encoded = base64.b64encode(image_data).decode('utf-8')\n",
    "\n",
    "image_payload = {\n",
    "  # Das 4o klappt in der Regel besser für Bildanalysen\n",
    "  \"model\": \"gpt-4o\",\n",
    "  \"messages\": [\n",
    "    {\"role\": \"system\", \n",
    "     \"content\": \"Du bist ein Experte darin PDF Tabellen zu analysieren\"\n",
    "    },\n",
    "    {\n",
    "      \"role\": \"user\",\n",
    "      \"content\": [\n",
    "        {\n",
    "          \"type\": \"text\",\n",
    "          \"text\": \"\"\"Welcher Wert steht für die Zeile \"Wert C\" in 2018?\"\"\"\n",
    "        },\n",
    "        {\n",
    "          \"type\": \"image_url\",\n",
    "          \"image_url\": {\n",
    "            \"url\": f\"data:image/png;base64,{base64_encoded}\"\n",
    "          }\n",
    "        }         \n",
    "      ]\n",
    "    }\n",
    "  ],\n",
    "  \"temperature\": 0.5\n",
    "}"
   ]
  },
  {
   "cell_type": "code",
   "execution_count": null,
   "id": "44657b71-a9ad-435b-866f-bbd6875ec8c9",
   "metadata": {},
   "outputs": [],
   "source": [
    "endpoint_response = call_openai(payload=image_payload)"
   ]
  },
  {
   "cell_type": "code",
   "execution_count": null,
   "id": "ae8ebb76-e78d-44b1-b0c8-b44254f7ede9",
   "metadata": {},
   "outputs": [],
   "source": [
    "# Komplexe Tabellen Strukture fangen bereits bei kombinierten Zellen an und die Extraktion neight dazu an solchen Stellen Fehler zu produzieren.\n",
    "# Als Daumen-Regel gilt, primitive, einfache Tabellen die zeilenweise organisiert sind, sind in der Regel gut zu extrahieren.\n",
    "# Sobald 'kosmetische' Aufhübschung vorhanden ist, wird die automatische Interpretation von Tabellen herausforderned.\n",
    "endpoint_response.get('choices')[0].get('message', {}).get('content')"
   ]
  },
  {
   "cell_type": "markdown",
   "id": "d88b6c5a-626a-46e7-a0a5-01e8cfc839f8",
   "metadata": {},
   "source": [
    "# Analyse von komplexen Grafiken / Liniendiagrammen"
   ]
  },
  {
   "cell_type": "code",
   "execution_count": null,
   "id": "0a722991-de57-4475-aee0-e655a457e2d7",
   "metadata": {},
   "outputs": [],
   "source": [
    "import base64\n",
    "from IPython.display import Image, display\n",
    "\n",
    "with open(\"eu_zinsen_seit_1993.png\", mode='rb') as h:\n",
    "    image_data = h.read()\n",
    "\n",
    "display(Image(data=image_data))"
   ]
  },
  {
   "cell_type": "code",
   "execution_count": null,
   "id": "6cafd2ed-72f1-4d6e-9b16-241d215adaee",
   "metadata": {},
   "outputs": [],
   "source": [
    "base64_encoded = base64.b64encode(image_data).decode('utf-8')\n",
    "\n",
    "image_payload = {\n",
    "  # Das 4o klappt in der Regel besser für Bildanalysen\n",
    "  \"model\": \"gpt-4o\",\n",
    "  \"messages\": [\n",
    "    {\"role\": \"system\", \n",
    "     \"content\": \"Du bist ein Experte darin PDF Tabellen zu analysieren\"\n",
    "    },\n",
    "    {\n",
    "      \"role\": \"user\",\n",
    "      \"content\": [\n",
    "        {\n",
    "          \"type\": \"text\",\n",
    "          \"text\": \"\"\"In welchem Jahr war für Griechenland der Zinsatz am höchsten?\"\"\"\n",
    "        },\n",
    "        {\n",
    "          \"type\": \"image_url\",\n",
    "          \"image_url\": {\n",
    "            \"url\": f\"data:image/png;base64,{base64_encoded}\"\n",
    "          }\n",
    "        }         \n",
    "      ]\n",
    "    }\n",
    "  ],\n",
    "  \"temperature\": 0.5\n",
    "}"
   ]
  },
  {
   "cell_type": "code",
   "execution_count": null,
   "id": "8a67c231-d497-4dbd-bec8-47ffd38b35f6",
   "metadata": {},
   "outputs": [],
   "source": [
    "endpoint_response = call_openai(payload=image_payload)\n",
    "endpoint_response.get('choices')[0].get('message', {}).get('content')"
   ]
  }
 ],
 "metadata": {
  "kernelspec": {
   "display_name": "Python 3 (ipykernel)",
   "language": "python",
   "name": "python3"
  },
  "language_info": {
   "codemirror_mode": {
    "name": "ipython",
    "version": 3
   },
   "file_extension": ".py",
   "mimetype": "text/x-python",
   "name": "python",
   "nbconvert_exporter": "python",
   "pygments_lexer": "ipython3",
   "version": "3.13.1"
  }
 },
 "nbformat": 4,
 "nbformat_minor": 5
}
